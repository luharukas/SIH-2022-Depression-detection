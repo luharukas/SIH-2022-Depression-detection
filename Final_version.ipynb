{
 "cells": [
  {
   "cell_type": "code",
   "execution_count": 1,
   "id": "700aa5f7",
   "metadata": {},
   "outputs": [],
   "source": [
    "# importing all the libraries\n",
    "\n",
    "import dipy as dip\n",
    "import numpy as np\n",
    "from scipy.ndimage.morphology import binary_dilation\n",
    "from dipy.reconst import shm\n",
    "from dipy.tracking import utils\n",
    "from dipy.direction import peaks\n",
    "from dipy.core.gradients import gradient_table\n",
    "from dipy.reconst.dti import TensorModel\n",
    "from dipy.io.gradients import read_bvals_bvecs\n",
    "from dipy.io.image import load_nifti, load_nifti_data\n",
    "from dipy.reconst.csdeconv import (ConstrainedSphericalDeconvModel,\n",
    "                                   auto_response_ssst)\n",
    "from dipy.tracking import utils\n",
    "from dipy.tracking.local_tracking import LocalTracking\n",
    "from dipy.tracking.streamline import Streamlines\n",
    "from dipy.tracking.stopping_criterion import ThresholdStoppingCriterion\n",
    "from dipy.tracking.local_tracking import LocalTracking\n",
    "from dipy.tracking.stopping_criterion import BinaryStoppingCriterion\n",
    "from dipy.segment.mask import applymask\n",
    "from dipy.tracking.utils import density_map,target\n",
    "import tensorflow"
   ]
  },
  {
   "cell_type": "code",
   "execution_count": null,
   "id": "b696e5e9",
   "metadata": {},
   "outputs": [],
   "source": []
  },
  {
   "cell_type": "code",
   "execution_count": 5,
   "id": "a8636cf1",
   "metadata": {},
   "outputs": [],
   "source": [
    "def preprocessing(dmri, fbvec, fbval, label, mask):\n",
    "\n",
    "    data,affine,img = load_nifti(dmri,return_img = True)\n",
    "    \n",
    "    data_label= load_nifti_data(label,)\n",
    "    data_mask = load_nifti_data(mask,)\n",
    "    stripped_data=applymask(data,data_mask)\n",
    "    bvals, bvecs = read_bvals_bvecs(fbval,fbvec)\n",
    "    gtab = gradient_table(bvals, bvecs)\n",
    "    white_matter = binary_dilation((data_label == 2) | (data_label == 7 ) | (data_label==41) | (data_label==46))\n",
    "    csamodel = shm.CsaOdfModel(gtab, 6)\n",
    "\n",
    "    csapeaks = peaks.peaks_from_model(model=csamodel,data=stripped_data,sphere=peaks.default_sphere,relative_peak_threshold=.8,min_separation_angle=45,mask=white_matter)\n",
    "    \n",
    "    affine = np.eye(4)\n",
    "    seeds = utils.seeds_from_mask(white_matter, affine, density=1)\n",
    "    stopping_criterion = BinaryStoppingCriterion(white_matter)\n",
    "\n",
    "    streamline_generator = LocalTracking(csapeaks, stopping_criterion, seeds,affine=affine, step_size=0.5)\n",
    "    streamlines = Streamlines(streamline_generator)\n",
    "\n",
    "    cc_slice = (data_label == 9) | (data_label==10) | (data_label==17) | (data_label==18) |(data_label==48)|(data_label==49) | (data_label==53) | (data_label==54)\n",
    "    cc_streamlines = utils.target(streamlines, affine, cc_slice)\n",
    "    cc_streamlines = Streamlines(cc_streamlines)\n",
    "\n",
    "    other_streamlines = utils.target(streamlines, affine, cc_slice,\n",
    "                                 include=False)\n",
    "    other_streamlines = Streamlines(other_streamlines)\n",
    "    assert len(other_streamlines) + len(cc_streamlines) == len(streamlines)\n",
    "\n",
    "    M, grouping = utils.connectivity_matrix(cc_streamlines, affine,data_label.astype(np.uint8),return_mapping=True,mapping_as_streamlines=True)\n",
    "    M[:3, :] = 0\n",
    "    M[:, :3] = 0\n",
    "    log_m=np.log1p(M)\n",
    "    log_m = np.reshape(log_m,np.product(log_m.shape))\n",
    "    log_m=np.array([log_m])\n",
    "    model=tensorflow.keras.models.load_model('../Model')\n",
    "    prob=model.predict(log_m)[0][0]*100\n",
    "    if prob<30:\n",
    "        print(\"Not Depressed\")\n",
    "    else:\n",
    "        print(\"Depressed\")\n",
    "    "
   ]
  },
  {
   "cell_type": "code",
   "execution_count": 6,
   "id": "363ead27",
   "metadata": {},
   "outputs": [],
   "source": [
    "dmri=r\"C:\\Users\\luhar\\RSCAMVITM\\sihdata\\Data3\\sub_001\\dwi\\sub_001_dwi.nii.gz\"\n",
    "bvec=r\"C:\\Users\\luhar\\RSCAMVITM\\sihdata\\Data3\\sub_001\\dwi\\sub_001_dwi.bvec\"\n",
    "bval=r\"C:\\Users\\luhar\\RSCAMVITM\\sihdata\\Data3\\sub_001\\dwi\\sub_001_dwi.bval\"\n",
    "label=r\"C:\\Users\\luhar\\RSCAMVITM\\sihdata\\Data3\\sub_001\\dwi\\sub_001_dwi_aparc+aseg.nii.gz\"\n",
    "mask=r\"C:\\Users\\luhar\\RSCAMVITM\\sihdata\\Data3\\sub_001\\dwi\\sub_001_dwi_brainmask.nii.gz\""
   ]
  },
  {
   "cell_type": "code",
   "execution_count": 7,
   "id": "7b2dd1aa",
   "metadata": {},
   "outputs": [
    {
     "name": "stdout",
     "output_type": "stream",
     "text": [
      "Not Depressed\n"
     ]
    }
   ],
   "source": [
    "preprocessing(dmri,bvec,bval,label,mask)"
   ]
  },
  {
   "cell_type": "code",
   "execution_count": null,
   "id": "1e3947d7",
   "metadata": {},
   "outputs": [],
   "source": []
  }
 ],
 "metadata": {
  "kernelspec": {
   "display_name": "Python 3",
   "language": "python",
   "name": "python3"
  },
  "language_info": {
   "codemirror_mode": {
    "name": "ipython",
    "version": 3
   },
   "file_extension": ".py",
   "mimetype": "text/x-python",
   "name": "python",
   "nbconvert_exporter": "python",
   "pygments_lexer": "ipython3",
   "version": "3.9.12"
  },
  "vscode": {
   "interpreter": {
    "hash": "8b7078e322131f3e68093e492b74ce928b7e099f80e20b269f58d9de14af8a1b"
   }
  }
 },
 "nbformat": 4,
 "nbformat_minor": 5
}
